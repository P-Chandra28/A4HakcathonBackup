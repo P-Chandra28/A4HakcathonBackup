{
 "cells": [
  {
   "cell_type": "code",
   "execution_count": 1,
   "id": "44fa3684",
   "metadata": {},
   "outputs": [
    {
     "name": "stdout",
     "output_type": "stream",
     "text": [
      "['time_in_hospital', 'n_lab_procedures', 'n_procedures', 'n_medications', 'n_outpatient', 'n_inpatient', 'n_emergency'] ['age', 'medical_specialty', 'diag_1', 'diag_2', 'diag_3', 'glucose_test', 'A1Ctest', 'change', 'diabetes_med', 'readmitted']\n"
     ]
    }
   ],
   "source": [
    "import pandas as pd\n",
    "import numpy as np\n",
    "\n",
    "df=pd.read_csv(\"data/hospital_readmissions.csv\")\n",
    "df.replace(\"Missing\",np.nan,inplace=True)\n",
    "numeric_features = [feature for feature in df.columns if df[feature].dtype != 'O']\n",
    "categorical_columns = [feature for feature in df.columns if df[feature].dtype == 'O']\n",
    "print(numeric_features,categorical_columns)"
   ]
  },
  {
   "cell_type": "code",
   "execution_count": 4,
   "id": "e7949806",
   "metadata": {},
   "outputs": [
    {
     "name": "stdout",
     "output_type": "stream",
     "text": [
      "   col1 col2\n",
      "0    10  abc\n"
     ]
    }
   ],
   "source": [
    "import pandas as pd\n",
    "\n",
    "data = {'col1': 10, 'col2': 'abc'}\n",
    "df = pd.DataFrame(data,index=[0])\n",
    "print(df)"
   ]
  },
  {
   "cell_type": "code",
   "execution_count": 8,
   "id": "dc573096",
   "metadata": {},
   "outputs": [
    {
     "name": "stdout",
     "output_type": "stream",
     "text": [
      "<class 'pandas.core.frame.DataFrame'>\n",
      "RangeIndex: 25000 entries, 0 to 24999\n",
      "Data columns (total 17 columns):\n",
      " #   Column             Non-Null Count  Dtype \n",
      "---  ------             --------------  ----- \n",
      " 0   age                25000 non-null  object\n",
      " 1   time_in_hospital   25000 non-null  int64 \n",
      " 2   n_lab_procedures   25000 non-null  int64 \n",
      " 3   n_procedures       25000 non-null  int64 \n",
      " 4   n_medications      25000 non-null  int64 \n",
      " 5   n_outpatient       25000 non-null  int64 \n",
      " 6   n_inpatient        25000 non-null  int64 \n",
      " 7   n_emergency        25000 non-null  int64 \n",
      " 8   medical_specialty  12618 non-null  object\n",
      " 9   diag_1             24996 non-null  object\n",
      " 10  diag_2             24958 non-null  object\n",
      " 11  diag_3             24804 non-null  object\n",
      " 12  glucose_test       25000 non-null  object\n",
      " 13  A1Ctest            25000 non-null  object\n",
      " 14  change             25000 non-null  object\n",
      " 15  diabetes_med       25000 non-null  object\n",
      " 16  readmitted         25000 non-null  object\n",
      "dtypes: int64(7), object(10)\n",
      "memory usage: 3.2+ MB\n"
     ]
    }
   ],
   "source": [
    "from sklearn.preprocessing import OrdinalEncoder\n",
    "encoder=OrdinalEncoder(encoded_missing_value=-1.)\n",
    "train_df=encoder.fit_transform(df)\n",
    "df.head()\n",
    "columns=df.columns\n",
    "df.info()"
   ]
  },
  {
   "cell_type": "code",
   "execution_count": 7,
   "id": "1cc1bb50",
   "metadata": {},
   "outputs": [
    {
     "name": "stdout",
     "output_type": "stream",
     "text": [
      "age : ['[70-80)' '[50-60)' '[60-70)' '[40-50)' '[80-90)' '[90-100)']\n",
      "time_in_hospital : [ 8  3  5  2  1  4  7 10  6 12 11  9 14 13]\n",
      "n_lab_procedures : [ 72  34  45  36  42  51  44  19  67  37  35  69  60  73  52   9  16  62\n",
      "  54  58  40  23  32  65   1  47  39  59  68  66  43  30  46  48   5  24\n",
      "  70  25  29  49  53  94  18  61  11  33  28  83  50  71  86  38   3  41\n",
      "  31  55  56  27  64  82  26  90  21   2  20  17  78 102  75  15   8   7\n",
      "  76  63  57  10   4  22  91  74  14  13  89  79  81  84  80   6  77  12\n",
      " 108  88  92  93 101  97 100  85  95  87  98  96  99 103 111 106 113 109\n",
      " 105]\n",
      "n_procedures : [1 2 0 6 3 5 4]\n",
      "n_medications : [18 13 12  7 10 21 16  6 26 20 11 27 15  8 22 17 14 28  5 24  9 19  1 25\n",
      " 32  3 31 23 39 34 40  4 38  2 33 56 44 29 46 30 47 41 35 36 50 49 54 57\n",
      " 60 37 61 52 51 42 53 43 45 59 62 79 63 55 65 48 58 69 68 72 75 64]\n",
      "n_outpatient : [ 2  0  1  3  7  5  4  6  9  8 11 10 15 21 13 12 27 16 14 33 20 18 23]\n",
      "n_inpatient : [ 0  2  3  1  6  9  7  4  5  8 10 11 14 12 15 13]\n",
      "n_emergency : [ 0  1 10  2  3  4  5  7  6 12  8 16 28 18 11  9 37 21 13 19 64]\n",
      "medical_specialty : [nan 'Other' 'InternalMedicine' 'Family/GeneralPractice' 'Cardiology'\n",
      " 'Surgery' 'Emergency/Trauma']\n",
      "diag_1 : ['Circulatory' 'Other' 'Injury' 'Digestive' 'Respiratory' 'Diabetes'\n",
      " 'Musculoskeletal' nan]\n",
      "diag_2 : ['Respiratory' 'Other' 'Circulatory' 'Injury' 'Diabetes' 'Digestive'\n",
      " 'Musculoskeletal' nan]\n",
      "diag_3 : ['Other' 'Circulatory' 'Diabetes' 'Respiratory' 'Injury' 'Musculoskeletal'\n",
      " 'Digestive' nan]\n",
      "glucose_test : ['no' 'normal' 'high']\n",
      "A1Ctest : ['no' 'normal' 'high']\n",
      "change : ['no' 'yes']\n",
      "diabetes_med : ['yes' 'no']\n",
      "readmitted : ['no' 'yes']\n"
     ]
    }
   ],
   "source": [
    "for i in columns:\n",
    "    print(i,\":\",df[i].unique())"
   ]
  },
  {
   "cell_type": "code",
   "execution_count": 4,
   "id": "d4b0fa7f",
   "metadata": {},
   "outputs": [
    {
     "name": "stdout",
     "output_type": "stream",
     "text": [
      "[[ 3.  7. 71. ...  0.  1.  0.]\n",
      " [ 3.  2. 33. ...  0.  1.  0.]\n",
      " [ 1.  4. 44. ...  1.  1.  1.]\n",
      " ...\n",
      " [ 3.  4. 11. ...  0.  0.  1.]\n",
      " [ 3.  1. 60. ...  1.  1.  0.]\n",
      " [ 1.  9. 36. ...  0.  0.  1.]]\n"
     ]
    }
   ],
   "source": [
    "from sklearn.impute import KNNImputer\n",
    "\n",
    "\n",
    "imputer=KNNImputer(n_neighbors=2,missing_values=-1.)\n",
    "imputed_missing=imputer.fit_transform(train_df)\n",
    "print(imputed_missing)"
   ]
  },
  {
   "cell_type": "code",
   "execution_count": null,
   "id": "a05f3154",
   "metadata": {},
   "outputs": [
    {
     "name": "stdout",
     "output_type": "stream",
     "text": [
      "['[70-80)', '[50-60)', '[60-70)', '[40-50)', '[80-90)', '[90-100)']\n",
      "['[40-50)' 3 29 0 8 0 0 1 'InternalMedicine' 'Respiratory' 'Diabetes'\n",
      " 'Digestive' 'no' 'no' 'yes' 'yes' 'yes']\n"
     ]
    }
   ],
   "source": [
    "final_df=encoder.inverse_transform(imputed_missing)\n",
    "print(age)\n",
    "model2=OrdinalEncoder()\n",
    "\n",
    "print(final_df[65])"
   ]
  },
  {
   "cell_type": "code",
   "execution_count": 7,
   "id": "66f1d432",
   "metadata": {},
   "outputs": [
    {
     "name": "stdout",
     "output_type": "stream",
     "text": [
      "Index(['age', 'time_in_hospital', 'n_lab_procedures', 'n_procedures',\n",
      "       'n_medications', 'n_outpatient', 'n_inpatient', 'n_emergency',\n",
      "       'medical_specialty', 'diag_1', 'diag_2', 'diag_3', 'glucose_test',\n",
      "       'A1Ctest', 'change', 'diabetes_med', 'readmitted'],\n",
      "      dtype='object')\n"
     ]
    },
    {
     "data": {
      "text/html": [
       "<div>\n",
       "<style scoped>\n",
       "    .dataframe tbody tr th:only-of-type {\n",
       "        vertical-align: middle;\n",
       "    }\n",
       "\n",
       "    .dataframe tbody tr th {\n",
       "        vertical-align: top;\n",
       "    }\n",
       "\n",
       "    .dataframe thead th {\n",
       "        text-align: right;\n",
       "    }\n",
       "</style>\n",
       "<table border=\"1\" class=\"dataframe\">\n",
       "  <thead>\n",
       "    <tr style=\"text-align: right;\">\n",
       "      <th></th>\n",
       "      <th>age</th>\n",
       "      <th>time_in_hospital</th>\n",
       "      <th>n_lab_procedures</th>\n",
       "      <th>n_procedures</th>\n",
       "      <th>n_medications</th>\n",
       "      <th>n_outpatient</th>\n",
       "      <th>n_inpatient</th>\n",
       "      <th>n_emergency</th>\n",
       "      <th>medical_specialty</th>\n",
       "      <th>diag_1</th>\n",
       "      <th>diag_2</th>\n",
       "      <th>diag_3</th>\n",
       "      <th>glucose_test</th>\n",
       "      <th>A1Ctest</th>\n",
       "      <th>change</th>\n",
       "      <th>diabetes_med</th>\n",
       "      <th>readmitted</th>\n",
       "    </tr>\n",
       "  </thead>\n",
       "  <tbody>\n",
       "    <tr>\n",
       "      <th>0</th>\n",
       "      <td>3.0</td>\n",
       "      <td>8</td>\n",
       "      <td>72</td>\n",
       "      <td>1</td>\n",
       "      <td>18</td>\n",
       "      <td>2</td>\n",
       "      <td>0</td>\n",
       "      <td>0</td>\n",
       "      <td>Other</td>\n",
       "      <td>Circulatory</td>\n",
       "      <td>Respiratory</td>\n",
       "      <td>Other</td>\n",
       "      <td>no</td>\n",
       "      <td>no</td>\n",
       "      <td>no</td>\n",
       "      <td>yes</td>\n",
       "      <td>no</td>\n",
       "    </tr>\n",
       "    <tr>\n",
       "      <th>1</th>\n",
       "      <td>3.0</td>\n",
       "      <td>3</td>\n",
       "      <td>34</td>\n",
       "      <td>2</td>\n",
       "      <td>13</td>\n",
       "      <td>0</td>\n",
       "      <td>0</td>\n",
       "      <td>0</td>\n",
       "      <td>Other</td>\n",
       "      <td>Other</td>\n",
       "      <td>Other</td>\n",
       "      <td>Other</td>\n",
       "      <td>no</td>\n",
       "      <td>no</td>\n",
       "      <td>no</td>\n",
       "      <td>yes</td>\n",
       "      <td>no</td>\n",
       "    </tr>\n",
       "    <tr>\n",
       "      <th>2</th>\n",
       "      <td>1.0</td>\n",
       "      <td>5</td>\n",
       "      <td>45</td>\n",
       "      <td>0</td>\n",
       "      <td>18</td>\n",
       "      <td>0</td>\n",
       "      <td>0</td>\n",
       "      <td>0</td>\n",
       "      <td>Cardiology</td>\n",
       "      <td>Circulatory</td>\n",
       "      <td>Circulatory</td>\n",
       "      <td>Circulatory</td>\n",
       "      <td>no</td>\n",
       "      <td>no</td>\n",
       "      <td>yes</td>\n",
       "      <td>yes</td>\n",
       "      <td>yes</td>\n",
       "    </tr>\n",
       "    <tr>\n",
       "      <th>3</th>\n",
       "      <td>3.0</td>\n",
       "      <td>2</td>\n",
       "      <td>36</td>\n",
       "      <td>0</td>\n",
       "      <td>12</td>\n",
       "      <td>1</td>\n",
       "      <td>0</td>\n",
       "      <td>0</td>\n",
       "      <td>InternalMedicine</td>\n",
       "      <td>Circulatory</td>\n",
       "      <td>Other</td>\n",
       "      <td>Diabetes</td>\n",
       "      <td>no</td>\n",
       "      <td>no</td>\n",
       "      <td>yes</td>\n",
       "      <td>yes</td>\n",
       "      <td>yes</td>\n",
       "    </tr>\n",
       "    <tr>\n",
       "      <th>4</th>\n",
       "      <td>2.0</td>\n",
       "      <td>1</td>\n",
       "      <td>42</td>\n",
       "      <td>0</td>\n",
       "      <td>7</td>\n",
       "      <td>0</td>\n",
       "      <td>0</td>\n",
       "      <td>0</td>\n",
       "      <td>InternalMedicine</td>\n",
       "      <td>Other</td>\n",
       "      <td>Circulatory</td>\n",
       "      <td>Respiratory</td>\n",
       "      <td>no</td>\n",
       "      <td>no</td>\n",
       "      <td>no</td>\n",
       "      <td>yes</td>\n",
       "      <td>no</td>\n",
       "    </tr>\n",
       "  </tbody>\n",
       "</table>\n",
       "</div>"
      ],
      "text/plain": [
       "   age time_in_hospital n_lab_procedures  ... change diabetes_med readmitted\n",
       "0  3.0                8               72  ...     no          yes         no\n",
       "1  3.0                3               34  ...     no          yes         no\n",
       "2  1.0                5               45  ...    yes          yes        yes\n",
       "3  3.0                2               36  ...    yes          yes        yes\n",
       "4  2.0                1               42  ...     no          yes         no\n",
       "\n",
       "[5 rows x 17 columns]"
      ]
     },
     "execution_count": 7,
     "metadata": {},
     "output_type": "execute_result"
    }
   ],
   "source": [
    "df2=pd.DataFrame(final_df,columns=columns)\n",
    "df2.head()\n",
    "df2[\"age\"]=model2.fit_transform(df2[[\"age\"]])\n",
    "print(df2.columns)\n",
    "df2.to_csv(path_or_buf=\"hospital.csv\")\n",
    "df2.head()"
   ]
  },
  {
   "cell_type": "code",
   "execution_count": 8,
   "id": "99b2de9a",
   "metadata": {},
   "outputs": [],
   "source": [
    "df3=pd.DataFrame(imputed_missing,columns=columns)\n",
    "df3.head()\n",
    "df3.to_csv(\"hospital.csv\")"
   ]
  },
  {
   "cell_type": "code",
   "execution_count": null,
   "id": "6b3fd4aa",
   "metadata": {},
   "outputs": [
    {
     "ename": "NameError",
     "evalue": "name 'train_df' is not defined",
     "output_type": "error",
     "traceback": [
      "\u001b[1;31m---------------------------------------------------------------------------\u001b[0m",
      "\u001b[1;31mNameError\u001b[0m                                 Traceback (most recent call last)",
      "Cell \u001b[1;32mIn[1], line 11\u001b[0m\n\u001b[0;32m      8\u001b[0m \u001b[38;5;28;01mimport\u001b[39;00m\u001b[38;5;250m \u001b[39m\u001b[38;5;21;01mnumpy\u001b[39;00m\u001b[38;5;250m \u001b[39m\u001b[38;5;28;01mas\u001b[39;00m\u001b[38;5;250m \u001b[39m\u001b[38;5;21;01mnp\u001b[39;00m\n\u001b[0;32m     10\u001b[0m \u001b[38;5;66;03m# Copy datasets\u001b[39;00m\n\u001b[1;32m---> 11\u001b[0m train \u001b[38;5;241m=\u001b[39m \u001b[43mtrain_df\u001b[49m\u001b[38;5;241m.\u001b[39mcopy()\n\u001b[0;32m     12\u001b[0m test \u001b[38;5;241m=\u001b[39m test_df\u001b[38;5;241m.\u001b[39mcopy()\n\u001b[0;32m     14\u001b[0m \u001b[38;5;66;03m# Target variable\u001b[39;00m\n",
      "\u001b[1;31mNameError\u001b[0m: name 'train_df' is not defined"
     ]
    }
   ],
   "source": [
    "from sklearn.ensemble import RandomForestClassifier, AdaBoostClassifier\n",
    "from sklearn.linear_model import LogisticRegression, Ridge,Lasso\n",
    "from sklearn.svm import SVC\n",
    "from sklearn.neighbors import KNeighborsClassifier\n",
    "from sklearn.tree import DecisionTreeClassifier\n",
    "from sklearn.naive_bayes import MultinomialNB\n",
    "from sklearn.model_selection import train_test_split\n",
    "from sklearn.metrics import accuracy_score\n",
    "\n",
    "X=df3.drop(columns=\"readmitted\",axis=1)\n",
    "Y=df3[\"readmitted\"]\n",
    "X_train,X_test,Y_train,Y_test=train_test_split(X,Y,test_size=0.2,random_state=42)\n",
    "models={\n",
    "    'Logistic Regression Classification': LogisticRegression(),\n",
    "'Decision Tree': DecisionTreeClassifier(),\n",
    "'Random Forest': RandomForestClassifier(),\n",
    "'Support Vector Machine': SVC(),\n",
    "'Naive Bayes': MultinomialNB(),\n",
    "'K-Nearest Neighbors': KNeighborsClassifier(),\n",
    "\"AdaBoost Regressor\": AdaBoostClassifier()\n",
    "}\n",
    "report={}\n",
    "for i in range(len(models)):\n",
    "    model=list(models.values())[i]\n",
    "    model.fit(X_train,Y_train)\n",
    "    y_pred=model.predict(X_test)\n",
    "\n",
    "    score=accuracy_score(Y_test,y_pred)\n",
    "\n",
    "    report[list(models.keys())[i]]=score\n",
    "print(report)"
   ]
  },
  {
   "cell_type": "code",
   "execution_count": 10,
   "id": "b2587de5",
   "metadata": {},
   "outputs": [
    {
     "data": {
      "text/plain": [
       "readmitted\n",
       "no     0.52984\n",
       "yes    0.47016\n",
       "Name: proportion, dtype: float64"
      ]
     },
     "execution_count": 10,
     "metadata": {},
     "output_type": "execute_result"
    }
   ],
   "source": [
    "df[\"readmitted\"].unique()\n",
    "df['readmitted'].value_counts(normalize=True)"
   ]
  }
 ],
 "metadata": {
  "kernelspec": {
   "display_name": "Python 3",
   "language": "python",
   "name": "python3"
  },
  "language_info": {
   "codemirror_mode": {
    "name": "ipython",
    "version": 3
   },
   "file_extension": ".py",
   "mimetype": "text/x-python",
   "name": "python",
   "nbconvert_exporter": "python",
   "pygments_lexer": "ipython3",
   "version": "3.9.2"
  }
 },
 "nbformat": 4,
 "nbformat_minor": 5
}
